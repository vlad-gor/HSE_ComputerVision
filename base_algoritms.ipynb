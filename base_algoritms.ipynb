{
 "cells": [
  {
   "cell_type": "code",
   "execution_count": 1,
   "metadata": {},
   "outputs": [],
   "source": [
    "# Загрузка картинок\n",
    "!mkdir media\n",
    "!wget https://github.com/antoleb/cv_notebooks/raw/master/week1/media/bilateral_result.png -P media &> /dev/null\n",
    "!wget https://github.com/antoleb/cv_notebooks/raw/master/week1/media/green_screen.png -P media &> /dev/null\n",
    "!wget https://github.com/antoleb/cv_notebooks/raw/master/week1/media/image1.jpg -P media &> /dev/null\n",
    "!wget https://github.com/antoleb/cv_notebooks/raw/master/week1/media/mask_portrait.png -P media &> /dev/null\n",
    "!wget https://github.com/antoleb/cv_notebooks/raw/master/week1/media/moon.png -P media &> /dev/null\n",
    "!wget https://github.com/antoleb/cv_notebooks/raw/master/week1/media/portrait.jpeg -P media &> /dev/null"
   ]
  },
  {
   "cell_type": "code",
   "execution_count": null,
   "metadata": {},
   "outputs": [],
   "source": []
  }
 ],
 "metadata": {
  "kernelspec": {
   "display_name": "Python 3.10.4 64-bit",
   "language": "python",
   "name": "python3"
  },
  "language_info": {
   "codemirror_mode": {
    "name": "ipython",
    "version": 3
   },
   "file_extension": ".py",
   "mimetype": "text/x-python",
   "name": "python",
   "nbconvert_exporter": "python",
   "pygments_lexer": "ipython3",
   "version": "3.10.4"
  },
  "orig_nbformat": 4,
  "vscode": {
   "interpreter": {
    "hash": "916dbcbb3f70747c44a77c7bcd40155683ae19c65e1c03b4aa3499c5328201f1"
   }
  }
 },
 "nbformat": 4,
 "nbformat_minor": 2
}
